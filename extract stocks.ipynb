{
 "cells": [
  {
   "cell_type": "code",
   "execution_count": 2,
   "id": "da73fcc3",
   "metadata": {},
   "outputs": [
    {
     "data": {
      "text/plain": [
       "740894"
      ]
     },
     "execution_count": 2,
     "metadata": {},
     "output_type": "execute_result"
    }
   ],
   "source": [
    "import pandas as pd\n",
    "\n",
    "file_path = \"/Users/wenjing/Downloads/Capstone/filtered_data_clean.csv\"\n",
    "df = pd.read_csv(file_path)\n",
    "len(df)"
   ]
  },
  {
   "cell_type": "code",
   "execution_count": 3,
   "id": "bf441927",
   "metadata": {},
   "outputs": [
    {
     "name": "stdout",
     "output_type": "stream",
     "text": [
      "Stock_symbol\n",
      "AMD     8959\n",
      "AAPL    8865\n",
      "MSFT    8737\n",
      "GOOG    8726\n",
      "NVDA    8716\n",
      "TSLA    8712\n",
      "INTC    8682\n",
      "MRK     7439\n",
      "BA      6065\n",
      "Name: count, dtype: int64\n"
     ]
    }
   ],
   "source": [
    "# List of stock symbols to filter\n",
    "stocks = ['AMD', 'NVDA', 'TSLA', 'AAPL', 'BA', 'MSFT', 'GOOG', 'INTC', 'MRK']\n",
    "\n",
    "# Filter the DataFrame to include only rows where \"Stock_symbol\" is in the list\n",
    "filtered_df = df[df['Stock_symbol'].isin(stocks)]\n",
    "\n",
    "# Group by \"Stock_symbol\" and count the number of rows for each stock\n",
    "stock_counts = filtered_df['Stock_symbol'].value_counts()\n",
    "\n",
    "# Print the result\n",
    "print(stock_counts)"
   ]
  },
  {
   "cell_type": "code",
   "execution_count": 4,
   "id": "236b2e5d",
   "metadata": {},
   "outputs": [
    {
     "name": "stdout",
     "output_type": "stream",
     "text": [
      "Filtered data has been exported to /Users/wenjing/Downloads/Capstone/10_stocks_filtered.csv\n"
     ]
    },
    {
     "data": {
      "text/html": [
       "<div>\n",
       "<style scoped>\n",
       "    .dataframe tbody tr th:only-of-type {\n",
       "        vertical-align: middle;\n",
       "    }\n",
       "\n",
       "    .dataframe tbody tr th {\n",
       "        vertical-align: top;\n",
       "    }\n",
       "\n",
       "    .dataframe thead th {\n",
       "        text-align: right;\n",
       "    }\n",
       "</style>\n",
       "<table border=\"1\" class=\"dataframe\">\n",
       "  <thead>\n",
       "    <tr style=\"text-align: right;\">\n",
       "      <th></th>\n",
       "      <th>Unnamed: 0</th>\n",
       "      <th>Date</th>\n",
       "      <th>Article_title</th>\n",
       "      <th>Stock_symbol</th>\n",
       "      <th>Url</th>\n",
       "      <th>Publisher</th>\n",
       "      <th>Author</th>\n",
       "      <th>Article</th>\n",
       "      <th>Lsa_summary</th>\n",
       "      <th>Luhn_summary</th>\n",
       "      <th>Textrank_summary</th>\n",
       "      <th>Lexrank_summary</th>\n",
       "    </tr>\n",
       "  </thead>\n",
       "  <tbody>\n",
       "    <tr>\n",
       "      <th>379</th>\n",
       "      <td>12025.0</td>\n",
       "      <td>2023-12-16 22:00:00 UTC</td>\n",
       "      <td>My 6 Largest Portfolio Holdings Heading Into 2...</td>\n",
       "      <td>AAPL</td>\n",
       "      <td>https://www.nasdaq.com/articles/my-6-largest-p...</td>\n",
       "      <td>NaN</td>\n",
       "      <td>NaN</td>\n",
       "      <td>After an absolute disaster of a year in 2022, ...</td>\n",
       "      <td>3: Apple There's little question that Apple (N...</td>\n",
       "      <td>3: Apple There's little question that Apple (N...</td>\n",
       "      <td>3: Apple There's little question that Apple (N...</td>\n",
       "      <td>3: Apple There's little question that Apple (N...</td>\n",
       "    </tr>\n",
       "    <tr>\n",
       "      <th>380</th>\n",
       "      <td>12026.0</td>\n",
       "      <td>2023-12-16 22:00:00 UTC</td>\n",
       "      <td>Brokers Suggest Investing in Apple (AAPL): Rea...</td>\n",
       "      <td>AAPL</td>\n",
       "      <td>https://www.nasdaq.com/articles/brokers-sugges...</td>\n",
       "      <td>NaN</td>\n",
       "      <td>NaN</td>\n",
       "      <td>When deciding whether to buy, sell, or hold a ...</td>\n",
       "      <td>Let's take a look at what these Wall Street he...</td>\n",
       "      <td>Click to get this free report Apple Inc. (AAPL...</td>\n",
       "      <td>Let's take a look at what these Wall Street he...</td>\n",
       "      <td>Brokerage Recommendation Trends for AAPL Let's...</td>\n",
       "    </tr>\n",
       "    <tr>\n",
       "      <th>381</th>\n",
       "      <td>12027.0</td>\n",
       "      <td>2023-12-16 21:00:00 UTC</td>\n",
       "      <td>Company News for Dec 19, 2023</td>\n",
       "      <td>AAPL</td>\n",
       "      <td>https://www.nasdaq.com/articles/company-news-f...</td>\n",
       "      <td>NaN</td>\n",
       "      <td>NaN</td>\n",
       "      <td>Shares of Apple Inc. AAPL lost 0.9% on China’s...</td>\n",
       "      <td>Shares of Apple Inc. AAPL lost 0.9% on China’s...</td>\n",
       "      <td>Click to get this free report Apple Inc. (AAPL...</td>\n",
       "      <td>Click to get this free report Apple Inc. (AAPL...</td>\n",
       "      <td>Click to get this free report Apple Inc. (AAPL...</td>\n",
       "    </tr>\n",
       "    <tr>\n",
       "      <th>382</th>\n",
       "      <td>12028.0</td>\n",
       "      <td>2023-12-16 21:00:00 UTC</td>\n",
       "      <td>NVIDIA (NVDA) Up 243% YTD: Will It Carry Momen...</td>\n",
       "      <td>AAPL</td>\n",
       "      <td>https://www.nasdaq.com/articles/nvidia-nvda-up...</td>\n",
       "      <td>NaN</td>\n",
       "      <td>NaN</td>\n",
       "      <td>NVIDIA Corporation NVDA has witnessed a remark...</td>\n",
       "      <td>Other Stocks in the $1T Club Apart from NVIDIA...</td>\n",
       "      <td>Other Stocks in the $1T Club Apart from NVIDIA...</td>\n",
       "      <td>Other Stocks in the $1T Club Apart from NVIDIA...</td>\n",
       "      <td>Other Stocks in the $1T Club Apart from NVIDIA...</td>\n",
       "    </tr>\n",
       "    <tr>\n",
       "      <th>383</th>\n",
       "      <td>12029.0</td>\n",
       "      <td>2023-12-16 21:00:00 UTC</td>\n",
       "      <td>Pre-Market Most Active for Dec 19, 2023 : BMY,...</td>\n",
       "      <td>AAPL</td>\n",
       "      <td>https://www.nasdaq.com/articles/pre-market-mos...</td>\n",
       "      <td>NaN</td>\n",
       "      <td>NaN</td>\n",
       "      <td>The NASDAQ 100 Pre-Market Indicator is up 10.1...</td>\n",
       "      <td>Apple Inc. (AAPL) is +0.86 at $196.75, with 1,...</td>\n",
       "      <td>Apple Inc. (AAPL) is +0.86 at $196.75, with 1,...</td>\n",
       "      <td>Apple Inc. (AAPL) is +0.86 at $196.75, with 1,...</td>\n",
       "      <td>Apple Inc. (AAPL) is +0.86 at $196.75, with 1,...</td>\n",
       "    </tr>\n",
       "  </tbody>\n",
       "</table>\n",
       "</div>"
      ],
      "text/plain": [
       "     Unnamed: 0                     Date  \\\n",
       "379     12025.0  2023-12-16 22:00:00 UTC   \n",
       "380     12026.0  2023-12-16 22:00:00 UTC   \n",
       "381     12027.0  2023-12-16 21:00:00 UTC   \n",
       "382     12028.0  2023-12-16 21:00:00 UTC   \n",
       "383     12029.0  2023-12-16 21:00:00 UTC   \n",
       "\n",
       "                                         Article_title Stock_symbol  \\\n",
       "379  My 6 Largest Portfolio Holdings Heading Into 2...         AAPL   \n",
       "380  Brokers Suggest Investing in Apple (AAPL): Rea...         AAPL   \n",
       "381                      Company News for Dec 19, 2023         AAPL   \n",
       "382  NVIDIA (NVDA) Up 243% YTD: Will It Carry Momen...         AAPL   \n",
       "383  Pre-Market Most Active for Dec 19, 2023 : BMY,...         AAPL   \n",
       "\n",
       "                                                   Url  Publisher  Author  \\\n",
       "379  https://www.nasdaq.com/articles/my-6-largest-p...        NaN     NaN   \n",
       "380  https://www.nasdaq.com/articles/brokers-sugges...        NaN     NaN   \n",
       "381  https://www.nasdaq.com/articles/company-news-f...        NaN     NaN   \n",
       "382  https://www.nasdaq.com/articles/nvidia-nvda-up...        NaN     NaN   \n",
       "383  https://www.nasdaq.com/articles/pre-market-mos...        NaN     NaN   \n",
       "\n",
       "                                               Article  \\\n",
       "379  After an absolute disaster of a year in 2022, ...   \n",
       "380  When deciding whether to buy, sell, or hold a ...   \n",
       "381  Shares of Apple Inc. AAPL lost 0.9% on China’s...   \n",
       "382  NVIDIA Corporation NVDA has witnessed a remark...   \n",
       "383  The NASDAQ 100 Pre-Market Indicator is up 10.1...   \n",
       "\n",
       "                                           Lsa_summary  \\\n",
       "379  3: Apple There's little question that Apple (N...   \n",
       "380  Let's take a look at what these Wall Street he...   \n",
       "381  Shares of Apple Inc. AAPL lost 0.9% on China’s...   \n",
       "382  Other Stocks in the $1T Club Apart from NVIDIA...   \n",
       "383  Apple Inc. (AAPL) is +0.86 at $196.75, with 1,...   \n",
       "\n",
       "                                          Luhn_summary  \\\n",
       "379  3: Apple There's little question that Apple (N...   \n",
       "380  Click to get this free report Apple Inc. (AAPL...   \n",
       "381  Click to get this free report Apple Inc. (AAPL...   \n",
       "382  Other Stocks in the $1T Club Apart from NVIDIA...   \n",
       "383  Apple Inc. (AAPL) is +0.86 at $196.75, with 1,...   \n",
       "\n",
       "                                      Textrank_summary  \\\n",
       "379  3: Apple There's little question that Apple (N...   \n",
       "380  Let's take a look at what these Wall Street he...   \n",
       "381  Click to get this free report Apple Inc. (AAPL...   \n",
       "382  Other Stocks in the $1T Club Apart from NVIDIA...   \n",
       "383  Apple Inc. (AAPL) is +0.86 at $196.75, with 1,...   \n",
       "\n",
       "                                       Lexrank_summary  \n",
       "379  3: Apple There's little question that Apple (N...  \n",
       "380  Brokerage Recommendation Trends for AAPL Let's...  \n",
       "381  Click to get this free report Apple Inc. (AAPL...  \n",
       "382  Other Stocks in the $1T Club Apart from NVIDIA...  \n",
       "383  Apple Inc. (AAPL) is +0.86 at $196.75, with 1,...  "
      ]
     },
     "execution_count": 4,
     "metadata": {},
     "output_type": "execute_result"
    }
   ],
   "source": [
    "output_file_path = \"/Users/wenjing/Downloads/Capstone/10_stocks_filtered.csv\"\n",
    "filtered_df.to_csv(output_file_path, index=False)\n",
    "\n",
    "print(\"Filtered data has been exported to\", output_file_path)\n",
    "filtered_df.head()\n"
   ]
  },
  {
   "cell_type": "code",
   "execution_count": 5,
   "id": "52437e9c",
   "metadata": {},
   "outputs": [
    {
     "data": {
      "text/plain": [
       "74901"
      ]
     },
     "execution_count": 5,
     "metadata": {},
     "output_type": "execute_result"
    }
   ],
   "source": [
    "len(filtered_df)"
   ]
  },
  {
   "cell_type": "code",
   "execution_count": 12,
   "id": "de61a113",
   "metadata": {},
   "outputs": [
    {
     "name": "stdout",
     "output_type": "stream",
     "text": [
      "10087\n",
      "505\n",
      "397\n",
      "511\n",
      "227\n"
     ]
    }
   ],
   "source": [
    "# Get the value of the 'Article' column in the first row\n",
    "first_article_value = filtered_df.iloc[0]['Article']\n",
    "\n",
    "# Display the value\n",
    "print(len(first_article_value))\n",
    "print(len(filtered_df.iloc[0]['Lsa_summary']))\n",
    "print(len(filtered_df.iloc[0]['Luhn_summary']))\n",
    "print(len(filtered_df.iloc[0]['Textrank_summary']))\n",
    "print(len(filtered_df.iloc[0]['Lexrank_summary']))"
   ]
  }
 ],
 "metadata": {
  "kernelspec": {
   "display_name": "Python 3 (ipykernel)",
   "language": "python",
   "name": "python3"
  },
  "language_info": {
   "codemirror_mode": {
    "name": "ipython",
    "version": 3
   },
   "file_extension": ".py",
   "mimetype": "text/x-python",
   "name": "python",
   "nbconvert_exporter": "python",
   "pygments_lexer": "ipython3",
   "version": "3.9.19"
  }
 },
 "nbformat": 4,
 "nbformat_minor": 5
}
