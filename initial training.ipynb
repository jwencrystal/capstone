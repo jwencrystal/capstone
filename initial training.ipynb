{
 "cells": [
  {
   "cell_type": "code",
   "execution_count": 9,
   "id": "08070d36",
   "metadata": {},
   "outputs": [
    {
     "data": {
      "text/plain": [
       "74901"
      ]
     },
     "execution_count": 9,
     "metadata": {},
     "output_type": "execute_result"
    }
   ],
   "source": [
    "import pandas as pd\n",
    "\n",
    "file_path = \"/Users/wenjing/Downloads/Capstone/10_stocks_filtered.csv\"\n",
    "df = pd.read_csv(file_path)\n",
    "len(df)"
   ]
  },
  {
   "cell_type": "code",
   "execution_count": 10,
   "id": "cfa3c273",
   "metadata": {
    "scrolled": true
   },
   "outputs": [
    {
     "name": "stdout",
     "output_type": "stream",
     "text": [
      "Stock_symbol\n",
      "AMD     8959\n",
      "AAPL    8865\n",
      "MSFT    8737\n",
      "GOOG    8726\n",
      "NVDA    8716\n",
      "TSLA    8712\n",
      "INTC    8682\n",
      "MRK     7439\n",
      "BA      6065\n",
      "Name: count, dtype: int64\n"
     ]
    }
   ],
   "source": [
    "# Group by \"Stock_symbol\" and count the number of rows for each stock\n",
    "stock_counts = df['Stock_symbol'].value_counts()\n",
    "\n",
    "# Print the result\n",
    "print(stock_counts)"
   ]
  },
  {
   "cell_type": "code",
   "execution_count": 11,
   "id": "ab13cd77",
   "metadata": {},
   "outputs": [
    {
     "name": "stderr",
     "output_type": "stream",
     "text": [
      "/Users/wenjing/miniforge3/envs/w210/lib/python3.9/site-packages/transformers/tokenization_utils_base.py:1601: FutureWarning: `clean_up_tokenization_spaces` was not set. It will be set to `True` by default. This behavior will be depracted in transformers v4.45, and will be then set to `False` by default. For more details check this issue: https://github.com/huggingface/transformers/issues/31884\n",
      "  warnings.warn(\n",
      "Hardware accelerator e.g. GPU is available in the environment, but no `device` argument is passed to the `Pipeline` object. Model will be on CPU.\n"
     ]
    },
    {
     "name": "stdout",
     "output_type": "stream",
     "text": [
      "   Unnamed: 0                     Date  \\\n",
      "0     12025.0  2023-12-16 22:00:00 UTC   \n",
      "1     12026.0  2023-12-16 22:00:00 UTC   \n",
      "2     12027.0  2023-12-16 21:00:00 UTC   \n",
      "3     12028.0  2023-12-16 21:00:00 UTC   \n",
      "4     12029.0  2023-12-16 21:00:00 UTC   \n",
      "\n",
      "                                       Article_title Stock_symbol  \\\n",
      "0  My 6 Largest Portfolio Holdings Heading Into 2...         AAPL   \n",
      "1  Brokers Suggest Investing in Apple (AAPL): Rea...         AAPL   \n",
      "2                      Company News for Dec 19, 2023         AAPL   \n",
      "3  NVIDIA (NVDA) Up 243% YTD: Will It Carry Momen...         AAPL   \n",
      "4  Pre-Market Most Active for Dec 19, 2023 : BMY,...         AAPL   \n",
      "\n",
      "                                                 Url  Publisher  Author  \\\n",
      "0  https://www.nasdaq.com/articles/my-6-largest-p...        NaN     NaN   \n",
      "1  https://www.nasdaq.com/articles/brokers-sugges...        NaN     NaN   \n",
      "2  https://www.nasdaq.com/articles/company-news-f...        NaN     NaN   \n",
      "3  https://www.nasdaq.com/articles/nvidia-nvda-up...        NaN     NaN   \n",
      "4  https://www.nasdaq.com/articles/pre-market-mos...        NaN     NaN   \n",
      "\n",
      "                                             Article  \\\n",
      "0  After an absolute disaster of a year in 2022, ...   \n",
      "1  When deciding whether to buy, sell, or hold a ...   \n",
      "2  Shares of Apple Inc. AAPL lost 0.9% on China’s...   \n",
      "3  NVIDIA Corporation NVDA has witnessed a remark...   \n",
      "4  The NASDAQ 100 Pre-Market Indicator is up 10.1...   \n",
      "\n",
      "                                         Lsa_summary  \\\n",
      "0  3: Apple There's little question that Apple (N...   \n",
      "1  Let's take a look at what these Wall Street he...   \n",
      "2  Shares of Apple Inc. AAPL lost 0.9% on China’s...   \n",
      "3  Other Stocks in the $1T Club Apart from NVIDIA...   \n",
      "4  Apple Inc. (AAPL) is +0.86 at $196.75, with 1,...   \n",
      "\n",
      "                                        Luhn_summary  \\\n",
      "0  3: Apple There's little question that Apple (N...   \n",
      "1  Click to get this free report Apple Inc. (AAPL...   \n",
      "2  Click to get this free report Apple Inc. (AAPL...   \n",
      "3  Other Stocks in the $1T Club Apart from NVIDIA...   \n",
      "4  Apple Inc. (AAPL) is +0.86 at $196.75, with 1,...   \n",
      "\n",
      "                                    Textrank_summary  \\\n",
      "0  3: Apple There's little question that Apple (N...   \n",
      "1  Let's take a look at what these Wall Street he...   \n",
      "2  Click to get this free report Apple Inc. (AAPL...   \n",
      "3  Other Stocks in the $1T Club Apart from NVIDIA...   \n",
      "4  Apple Inc. (AAPL) is +0.86 at $196.75, with 1,...   \n",
      "\n",
      "                                     Lexrank_summary sentiment_label  \\\n",
      "0  3: Apple There's little question that Apple (N...        positive   \n",
      "1  Brokerage Recommendation Trends for AAPL Let's...         neutral   \n",
      "2  Click to get this free report Apple Inc. (AAPL...        negative   \n",
      "3  Other Stocks in the $1T Club Apart from NVIDIA...         neutral   \n",
      "4  Apple Inc. (AAPL) is +0.86 at $196.75, with 1,...         neutral   \n",
      "\n",
      "   sentiment_score  \n",
      "0         0.589453  \n",
      "1         0.898743  \n",
      "2         0.972591  \n",
      "3         0.938853  \n",
      "4         0.523862  \n"
     ]
    }
   ],
   "source": [
    "# from transformers import BertTokenizer, BertForSequenceClassification\n",
    "from transformers import pipeline\n",
    "\n",
    "# Load model directly\n",
    "from transformers import AutoTokenizer, AutoModelForSequenceClassification\n",
    "\n",
    "tokenizer = AutoTokenizer.from_pretrained(\"ProsusAI/finbert\")\n",
    "model = AutoModelForSequenceClassification.from_pretrained(\"ProsusAI/finbert\")\n",
    "\n",
    "# Create a sentiment analysis pipeline\n",
    "nlp = pipeline(\"sentiment-analysis\", model=model, tokenizer=tokenizer)\n",
    "\n",
    "def get_sentiment_score(text):\n",
    "    # Perform sentiment analysis on the text\n",
    "    result = nlp(text[:512])  # Limit to the first 512 characters for BERT's input size\n",
    "    return result[0]['label'], result[0]['score']  # Return the label and score\n",
    "\n",
    "# Apply sentiment analysis on each row in 'Lsa_summary' column\n",
    "df['sentiment_label'], df['sentiment_score'] = zip(*df['Lsa_summary'].apply(get_sentiment_score))\n",
    "\n",
    "# Display the updated DataFrame with sentiment analysis results\n",
    "print(df.head())\n"
   ]
  },
  {
   "cell_type": "code",
   "execution_count": 8,
   "id": "eb859c76",
   "metadata": {},
   "outputs": [
    {
     "name": "stdout",
     "output_type": "stream",
     "text": [
      "DataFrame exported to /Users/wenjing/Downloads/Capstone/10_stocks_filtered_scored.csv\n"
     ]
    }
   ],
   "source": [
    "import pandas as pd\n",
    "\n",
    "# Assuming df is your DataFrame\n",
    "output_file = \"/Users/wenjing/Downloads/Capstone/10_stocks_filtered_scored.csv\"\n",
    "\n",
    "# Export the DataFrame to a CSV file\n",
    "df.to_csv(output_file, index=False)\n",
    "\n",
    "print(f\"DataFrame exported to {output_file}\")\n"
   ]
  }
 ],
 "metadata": {
  "kernelspec": {
   "display_name": "Python 3 (ipykernel)",
   "language": "python",
   "name": "python3"
  },
  "language_info": {
   "codemirror_mode": {
    "name": "ipython",
    "version": 3
   },
   "file_extension": ".py",
   "mimetype": "text/x-python",
   "name": "python",
   "nbconvert_exporter": "python",
   "pygments_lexer": "ipython3",
   "version": "3.9.19"
  }
 },
 "nbformat": 4,
 "nbformat_minor": 5
}
