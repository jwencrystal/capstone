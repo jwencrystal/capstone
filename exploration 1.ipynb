{
 "cells": [
  {
   "cell_type": "code",
   "execution_count": 1,
   "id": "43724bed-7aa0-4cdd-9bfb-8de6639f828b",
   "metadata": {},
   "outputs": [
    {
     "name": "stderr",
     "output_type": "stream",
     "text": [
      "/var/folders/z8/1bf58b0x31xb_r9dnkm4w93c0000gn/T/ipykernel_6823/1257406648.py:5: DtypeWarning: Columns (5,7,8,9,10,11) have mixed types. Specify dtype option on import or set low_memory=False.\n",
      "  df = pd.read_csv(file_path)\n"
     ]
    },
    {
     "name": "stdout",
     "output_type": "stream",
     "text": [
      "Filtered data has been exported to /Users/wenjing/Downloads/Capstone/filtered_data_clean.csv\n"
     ]
    },
    {
     "data": {
      "text/html": [
       "<div>\n",
       "<style scoped>\n",
       "    .dataframe tbody tr th:only-of-type {\n",
       "        vertical-align: middle;\n",
       "    }\n",
       "\n",
       "    .dataframe tbody tr th {\n",
       "        vertical-align: top;\n",
       "    }\n",
       "\n",
       "    .dataframe thead th {\n",
       "        text-align: right;\n",
       "    }\n",
       "</style>\n",
       "<table border=\"1\" class=\"dataframe\">\n",
       "  <thead>\n",
       "    <tr style=\"text-align: right;\">\n",
       "      <th></th>\n",
       "      <th>Unnamed: 0</th>\n",
       "      <th>Date</th>\n",
       "      <th>Article_title</th>\n",
       "      <th>Stock_symbol</th>\n",
       "      <th>Url</th>\n",
       "      <th>Publisher</th>\n",
       "      <th>Author</th>\n",
       "      <th>Article</th>\n",
       "      <th>Lsa_summary</th>\n",
       "      <th>Luhn_summary</th>\n",
       "      <th>Textrank_summary</th>\n",
       "      <th>Lexrank_summary</th>\n",
       "    </tr>\n",
       "  </thead>\n",
       "  <tbody>\n",
       "    <tr>\n",
       "      <th>0</th>\n",
       "      <td>0.0</td>\n",
       "      <td>2023-12-16 23:00:00 UTC</td>\n",
       "      <td>Interesting A Put And Call Options For August ...</td>\n",
       "      <td>A</td>\n",
       "      <td>https://www.nasdaq.com/articles/interesting-a-...</td>\n",
       "      <td>NaN</td>\n",
       "      <td>NaN</td>\n",
       "      <td>Investors in Agilent Technologies, Inc. (Symbo...</td>\n",
       "      <td>Because the $125.00 strike represents an appro...</td>\n",
       "      <td>The current analytical data (including greeks ...</td>\n",
       "      <td>Below is a chart showing the trailing twelve m...</td>\n",
       "      <td>At Stock Options Channel, our YieldBoost formu...</td>\n",
       "    </tr>\n",
       "    <tr>\n",
       "      <th>1</th>\n",
       "      <td>1.0</td>\n",
       "      <td>2023-12-12 00:00:00 UTC</td>\n",
       "      <td>Wolfe Research Initiates Coverage of Agilent T...</td>\n",
       "      <td>A</td>\n",
       "      <td>https://www.nasdaq.com/articles/wolfe-research...</td>\n",
       "      <td>NaN</td>\n",
       "      <td>NaN</td>\n",
       "      <td>Fintel reports that on December 13, 2023, Wolf...</td>\n",
       "      <td>Fintel reports that on December 13, 2023, Wolf...</td>\n",
       "      <td>T. Rowe Price Investment Management holds 10,1...</td>\n",
       "      <td>Agilent Technologies Declares $0.24 Dividend O...</td>\n",
       "      <td>The projected annual revenue for Agilent Techn...</td>\n",
       "    </tr>\n",
       "    <tr>\n",
       "      <th>2</th>\n",
       "      <td>2.0</td>\n",
       "      <td>2023-12-12 00:00:00 UTC</td>\n",
       "      <td>Agilent Technologies Reaches Analyst Target Price</td>\n",
       "      <td>A</td>\n",
       "      <td>https://www.nasdaq.com/articles/agilent-techno...</td>\n",
       "      <td>NaN</td>\n",
       "      <td>NaN</td>\n",
       "      <td>In recent trading, shares of Agilent Technolog...</td>\n",
       "      <td>In recent trading, shares of Agilent Technolog...</td>\n",
       "      <td>In recent trading, shares of Agilent Technolog...</td>\n",
       "      <td>When a stock reaches the target an analyst has...</td>\n",
       "      <td>When a stock reaches the target an analyst has...</td>\n",
       "    </tr>\n",
       "    <tr>\n",
       "      <th>3</th>\n",
       "      <td>3.0</td>\n",
       "      <td>2023-12-07 00:00:00 UTC</td>\n",
       "      <td>Agilent (A) Enhances BioTek Cytation C10 With ...</td>\n",
       "      <td>A</td>\n",
       "      <td>https://www.nasdaq.com/articles/agilent-a-enha...</td>\n",
       "      <td>NaN</td>\n",
       "      <td>NaN</td>\n",
       "      <td>Agilent Technologies A is enhancing its BioTek...</td>\n",
       "      <td>Per a Grand View Research report, the global m...</td>\n",
       "      <td>Notably, Agilent enhanced the BioTek Cytation ...</td>\n",
       "      <td>Agilent Technologies, Inc. Price and Consensus...</td>\n",
       "      <td>Notably, Agilent enhanced the BioTek Cytation ...</td>\n",
       "    </tr>\n",
       "    <tr>\n",
       "      <th>4</th>\n",
       "      <td>4.0</td>\n",
       "      <td>2023-12-07 00:00:00 UTC</td>\n",
       "      <td>Pre-Market Most Active for Dec 7, 2023 : SQQQ,...</td>\n",
       "      <td>A</td>\n",
       "      <td>https://www.nasdaq.com/articles/pre-market-mos...</td>\n",
       "      <td>NaN</td>\n",
       "      <td>NaN</td>\n",
       "      <td>The NASDAQ 100 Pre-Market Indicator is up 70.2...</td>\n",
       "      <td>ProShares UltraPro Short QQQ (SQQQ) is -0.15 a...</td>\n",
       "      <td>As reported by Zacks, the current mean recomme...</td>\n",
       "      <td>The total Pre-Market volume is currently 39,23...</td>\n",
       "      <td>The NASDAQ 100 Pre-Market Indicator is up 70.2...</td>\n",
       "    </tr>\n",
       "  </tbody>\n",
       "</table>\n",
       "</div>"
      ],
      "text/plain": [
       "   Unnamed: 0                     Date  \\\n",
       "0         0.0  2023-12-16 23:00:00 UTC   \n",
       "1         1.0  2023-12-12 00:00:00 UTC   \n",
       "2         2.0  2023-12-12 00:00:00 UTC   \n",
       "3         3.0  2023-12-07 00:00:00 UTC   \n",
       "4         4.0  2023-12-07 00:00:00 UTC   \n",
       "\n",
       "                                       Article_title Stock_symbol  \\\n",
       "0  Interesting A Put And Call Options For August ...            A   \n",
       "1  Wolfe Research Initiates Coverage of Agilent T...            A   \n",
       "2  Agilent Technologies Reaches Analyst Target Price            A   \n",
       "3  Agilent (A) Enhances BioTek Cytation C10 With ...            A   \n",
       "4  Pre-Market Most Active for Dec 7, 2023 : SQQQ,...            A   \n",
       "\n",
       "                                                 Url Publisher  Author  \\\n",
       "0  https://www.nasdaq.com/articles/interesting-a-...       NaN     NaN   \n",
       "1  https://www.nasdaq.com/articles/wolfe-research...       NaN     NaN   \n",
       "2  https://www.nasdaq.com/articles/agilent-techno...       NaN     NaN   \n",
       "3  https://www.nasdaq.com/articles/agilent-a-enha...       NaN     NaN   \n",
       "4  https://www.nasdaq.com/articles/pre-market-mos...       NaN     NaN   \n",
       "\n",
       "                                             Article  \\\n",
       "0  Investors in Agilent Technologies, Inc. (Symbo...   \n",
       "1  Fintel reports that on December 13, 2023, Wolf...   \n",
       "2  In recent trading, shares of Agilent Technolog...   \n",
       "3  Agilent Technologies A is enhancing its BioTek...   \n",
       "4  The NASDAQ 100 Pre-Market Indicator is up 70.2...   \n",
       "\n",
       "                                         Lsa_summary  \\\n",
       "0  Because the $125.00 strike represents an appro...   \n",
       "1  Fintel reports that on December 13, 2023, Wolf...   \n",
       "2  In recent trading, shares of Agilent Technolog...   \n",
       "3  Per a Grand View Research report, the global m...   \n",
       "4  ProShares UltraPro Short QQQ (SQQQ) is -0.15 a...   \n",
       "\n",
       "                                        Luhn_summary  \\\n",
       "0  The current analytical data (including greeks ...   \n",
       "1  T. Rowe Price Investment Management holds 10,1...   \n",
       "2  In recent trading, shares of Agilent Technolog...   \n",
       "3  Notably, Agilent enhanced the BioTek Cytation ...   \n",
       "4  As reported by Zacks, the current mean recomme...   \n",
       "\n",
       "                                    Textrank_summary  \\\n",
       "0  Below is a chart showing the trailing twelve m...   \n",
       "1  Agilent Technologies Declares $0.24 Dividend O...   \n",
       "2  When a stock reaches the target an analyst has...   \n",
       "3  Agilent Technologies, Inc. Price and Consensus...   \n",
       "4  The total Pre-Market volume is currently 39,23...   \n",
       "\n",
       "                                     Lexrank_summary  \n",
       "0  At Stock Options Channel, our YieldBoost formu...  \n",
       "1  The projected annual revenue for Agilent Techn...  \n",
       "2  When a stock reaches the target an analyst has...  \n",
       "3  Notably, Agilent enhanced the BioTek Cytation ...  \n",
       "4  The NASDAQ 100 Pre-Market Indicator is up 70.2...  "
      ]
     },
     "execution_count": 1,
     "metadata": {},
     "output_type": "execute_result"
    }
   ],
   "source": [
    "import pandas as pd\n",
    "\n",
    "# Step 1: Load the CSV file into a DataFrame\n",
    "file_path = \"/Users/wenjing/Downloads/Capstone/filtered_data.csv\"\n",
    "df = pd.read_csv(file_path)\n",
    "\n",
    "# Step 2: Filter rows where 'Article' column is not empty (non-null and non-empty)\n",
    "df_filtered = df[df['Article'].notna() & df['Article'].str.strip().ne('')]\n",
    "\n",
    "# Step 3: Export the filtered data to a new CSV file\n",
    "output_file_path = \"/Users/wenjing/Downloads/Capstone/filtered_data_clean.csv\"\n",
    "df_filtered.to_csv(output_file_path, index=False)\n",
    "\n",
    "print(\"Filtered data has been exported to\", output_file_path)\n",
    "df_filtered.head()"
   ]
  },
  {
   "cell_type": "markdown",
   "id": "2761a3b3-80fe-48e8-a913-95c12bb995d6",
   "metadata": {},
   "source": [
    "len(df_filtered)"
   ]
  },
  {
   "cell_type": "markdown",
   "id": "8aae22b2-9237-4c4d-bbca-8d97550c1daf",
   "metadata": {},
   "source": [
    "*sf*"
   ]
  },
  {
   "cell_type": "code",
   "execution_count": 2,
   "id": "a3f7fd4b-905d-485a-8245-8b748cc53bb1",
   "metadata": {},
   "outputs": [
    {
     "data": {
      "text/plain": [
       "740894"
      ]
     },
     "execution_count": 2,
     "metadata": {},
     "output_type": "execute_result"
    }
   ],
   "source": [
    "len(df_filtered)"
   ]
  },
  {
   "cell_type": "code",
   "execution_count": 10,
   "id": "665da97b",
   "metadata": {},
   "outputs": [
    {
     "data": {
      "text/plain": [
       "Stock_symbol\n",
       "T        9449\n",
       "AMD      8959\n",
       "AAPL     8865\n",
       "MSFT     8737\n",
       "GS       8730\n",
       "GOOG     8726\n",
       "NVDA     8716\n",
       "TSLA     8712\n",
       "DIS      8711\n",
       "WFC      8689\n",
       "CVX      8688\n",
       "INTC     8682\n",
       "GE       8680\n",
       "WMT      8675\n",
       "KO       7647\n",
       "MRK      7439\n",
       "GILD     7402\n",
       "NKE      7129\n",
       "CMCSA    6955\n",
       "V        6945\n",
       "COST     6781\n",
       "XOM      6757\n",
       "SBUX     6587\n",
       "MU       6456\n",
       "C        6229\n",
       "PYPL     6222\n",
       "MS       6212\n",
       "AMT      6157\n",
       "CRM      6105\n",
       "BA       6065\n",
       "Name: count, dtype: int64"
      ]
     },
     "execution_count": 10,
     "metadata": {},
     "output_type": "execute_result"
    }
   ],
   "source": [
    "stock_counts = df_filtered['Stock_symbol'].value_counts()\n",
    "\n",
    "# Display the result\n",
    "stock_counts.head(30)"
   ]
  },
  {
   "cell_type": "code",
   "execution_count": 11,
   "id": "03f41cf8",
   "metadata": {},
   "outputs": [
    {
     "name": "stdout",
     "output_type": "stream",
     "text": [
      "Stock_symbol\n",
      "AMD     8959\n",
      "AAPL    8865\n",
      "MSFT    8737\n",
      "GOOG    8726\n",
      "NVDA    8716\n",
      "TSLA    8712\n",
      "INTC    8682\n",
      "MRK     7439\n",
      "BA      6065\n",
      "Name: count, dtype: int64\n"
     ]
    }
   ],
   "source": [
    "import pandas as pd\n",
    "\n",
    "# List of stock symbols to filter\n",
    "stocks = ['AMD', 'NVDA', 'BABA', 'TSLA', 'AAPL', 'BA', 'MSFT', 'GOOG', 'INTC', 'MRK']\n",
    "\n",
    "# Filter the DataFrame to include only rows where \"Stock_symbol\" is in the list\n",
    "filtered_df1 = df_filtered[df_filtered['Stock_symbol'].isin(stocks)]\n",
    "\n",
    "# Group by \"Stock_symbol\" and count the number of rows for each stock\n",
    "stock_counts = filtered_df1['Stock_symbol'].value_counts()\n",
    "\n",
    "# Print the result\n",
    "print(stock_counts)\n"
   ]
  },
  {
   "cell_type": "code",
   "execution_count": null,
   "id": "9d89f842",
   "metadata": {},
   "outputs": [],
   "source": [
    "# Get the value of the 'Article' column in the first row\n",
    "first_article_value = df.iloc[0]['Article']\n",
    "\n",
    "# Display the value\n",
    "print(first_article_value)"
   ]
  }
 ],
 "metadata": {
  "kernelspec": {
   "display_name": "Python 3 (ipykernel)",
   "language": "python",
   "name": "python3"
  },
  "language_info": {
   "codemirror_mode": {
    "name": "ipython",
    "version": 3
   },
   "file_extension": ".py",
   "mimetype": "text/x-python",
   "name": "python",
   "nbconvert_exporter": "python",
   "pygments_lexer": "ipython3",
   "version": "3.9.19"
  }
 },
 "nbformat": 4,
 "nbformat_minor": 5
}
